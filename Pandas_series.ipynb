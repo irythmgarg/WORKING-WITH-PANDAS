{
  "nbformat": 4,
  "nbformat_minor": 0,
  "metadata": {
    "colab": {
      "provenance": [],
      "authorship_tag": "ABX9TyPOvmEo3eCTrH6693kgMp5n",
      "include_colab_link": true
    },
    "kernelspec": {
      "name": "python3",
      "display_name": "Python 3"
    },
    "language_info": {
      "name": "python"
    }
  },
  "cells": [
    {
      "cell_type": "markdown",
      "metadata": {
        "id": "view-in-github",
        "colab_type": "text"
      },
      "source": [
        "<a href=\"https://colab.research.google.com/github/irythmgarg/WORKING-WITH-PANDAS/blob/main/Pandas_series.ipynb\" target=\"_parent\"><img src=\"https://colab.research.google.com/assets/colab-badge.svg\" alt=\"Open In Colab\"/></a>"
      ]
    },
    {
      "cell_type": "markdown",
      "source": [
        "## **Working with series**"
      ],
      "metadata": {
        "id": "o2pz7XYxGVcp"
      }
    },
    {
      "cell_type": "code",
      "source": [
        "#basic programe of series\n",
        "a1=[1,2,3,4,5];\n",
        "df=pd.Series(a1);\n",
        "df"
      ],
      "metadata": {
        "id": "mRth5s5kIG8R",
        "colab": {
          "base_uri": "https://localhost:8080/"
        },
        "outputId": "6078b400-4705-4de4-e467-e3d43e5da87e"
      },
      "execution_count": 30,
      "outputs": [
        {
          "output_type": "execute_result",
          "data": {
            "text/plain": [
              "0    1\n",
              "1    2\n",
              "2    3\n",
              "3    4\n",
              "4    5\n",
              "dtype: int64"
            ]
          },
          "metadata": {},
          "execution_count": 30
        }
      ]
    },
    {
      "cell_type": "code",
      "source": [
        "# series of alphabets with user defined indexes\n",
        "import pandas as pd\n",
        "import random as r\n",
        "df=pd.Series(['a','b','c','d','e'],index=[r.randint(15,20) for i in range(5)]);\n",
        "df"
      ],
      "metadata": {
        "colab": {
          "base_uri": "https://localhost:8080/"
        },
        "id": "X77u5JqhE7mX",
        "outputId": "576af882-038e-4969-e816-32a8f0f90e8e"
      },
      "execution_count": 29,
      "outputs": [
        {
          "output_type": "execute_result",
          "data": {
            "text/plain": [
              "16    a\n",
              "19    b\n",
              "18    c\n",
              "15    d\n",
              "17    e\n",
              "dtype: object"
            ]
          },
          "metadata": {},
          "execution_count": 29
        }
      ]
    },
    {
      "cell_type": "code",
      "source": [
        "# series of alphabets\n",
        "import pandas as pd\n",
        "df=pd.Series(['a','b','c','d','e']);\n",
        "df\n",
        "del df"
      ],
      "metadata": {
        "colab": {
          "base_uri": "https://localhost:8080/"
        },
        "id": "nxBEhUUMF7Fy",
        "outputId": "ca9d3a46-9da6-473c-ad48-9b9c7f117a6b"
      },
      "execution_count": 28,
      "outputs": [
        {
          "output_type": "execute_result",
          "data": {
            "text/plain": [
              "0    1\n",
              "1    2\n",
              "2    3\n",
              "3    4\n",
              "4    5\n",
              "dtype: int64"
            ]
          },
          "metadata": {},
          "execution_count": 28
        }
      ]
    },
    {
      "cell_type": "code",
      "source": [
        "#basic programe of series with one list as list of indexes and other as that of objects\n",
        "a1=[1,2,3,4,5];\n",
        "a2=['a','b','c','d','e'];\n",
        "df=pd.Series(a1,a2);\n",
        "df=pd.Series(a2,a1);\n",
        "df"
      ],
      "metadata": {
        "colab": {
          "base_uri": "https://localhost:8080/"
        },
        "id": "1mFgCNVHHDWx",
        "outputId": "8de77634-721f-4441-9ba4-9d438dbb2e8d"
      },
      "execution_count": 32,
      "outputs": [
        {
          "output_type": "execute_result",
          "data": {
            "text/plain": [
              "1    a\n",
              "2    b\n",
              "3    c\n",
              "4    d\n",
              "5    e\n",
              "dtype: object"
            ]
          },
          "metadata": {},
          "execution_count": 32
        }
      ]
    },
    {
      "cell_type": "code",
      "source": [
        "# how to access members of series with indexes\n",
        "a1=[1,2,3,4,5];\n",
        "a2=['a','b','c','d','e'];\n",
        "df=pd.Series(a2,a1);\n",
        "df[4] # if there is absence of that index then it will throw an run time error;"
      ],
      "metadata": {
        "colab": {
          "base_uri": "https://localhost:8080/",
          "height": 35
        },
        "id": "-20bHkadHoZl",
        "outputId": "7b24c46d-90ae-4a64-8707-c8f24faa9b15"
      },
      "execution_count": 34,
      "outputs": [
        {
          "output_type": "execute_result",
          "data": {
            "text/plain": [
              "'d'"
            ],
            "application/vnd.google.colaboratory.intrinsic+json": {
              "type": "string"
            }
          },
          "metadata": {},
          "execution_count": 34
        }
      ]
    },
    {
      "cell_type": "code",
      "source": [
        "#series using dict-\n",
        "d2={1:'Ridham',2:'garg'};\n",
        "df=pd.Series(d2);\n",
        "df\n",
        "df[1]\n",
        "type(df[1])#showing type of value in dic\n",
        "type(df)#showing it is series or dict"
      ],
      "metadata": {
        "colab": {
          "base_uri": "https://localhost:8080/"
        },
        "id": "YWHF71wgIQcF",
        "outputId": "70228058-6de3-4182-b387-9509bb2626ec"
      },
      "execution_count": 39,
      "outputs": [
        {
          "output_type": "execute_result",
          "data": {
            "text/plain": [
              "pandas.core.series.Series"
            ]
          },
          "metadata": {},
          "execution_count": 39
        }
      ]
    },
    {
      "cell_type": "code",
      "source": [
        "#series of list of list\n",
        "d2=[[1,2,3,4,5],[6,7,8,9,0]];\n",
        "df=pd.Series(d2,index=[r.randint(1,6) for i in range(2)]);\n",
        "df\n"
      ],
      "metadata": {
        "colab": {
          "base_uri": "https://localhost:8080/"
        },
        "id": "ofhtFru0Kqog",
        "outputId": "678b923f-f095-4d0c-bd8d-a84ac3c3c221"
      },
      "execution_count": 49,
      "outputs": [
        {
          "output_type": "execute_result",
          "data": {
            "text/plain": [
              "1    [1, 2, 3, 4, 5]\n",
              "2    [6, 7, 8, 9, 0]\n",
              "dtype: object"
            ]
          },
          "metadata": {},
          "execution_count": 49
        }
      ]
    }
  ]
}